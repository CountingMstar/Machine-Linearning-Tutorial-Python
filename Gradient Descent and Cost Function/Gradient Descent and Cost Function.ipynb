{
 "cells": [
  {
   "cell_type": "code",
   "execution_count": 2,
   "id": "e678ce5a",
   "metadata": {},
   "outputs": [],
   "source": [
    "import pandas as pd\n",
    "import numpy as np\n",
    "import matplotlib.pyplot as plt"
   ]
  },
  {
   "cell_type": "code",
   "execution_count": 3,
   "id": "42a8f1cf",
   "metadata": {},
   "outputs": [],
   "source": [
    "def gradient_for_b(x, y, m, b):\n",
    "    diff = sum([y_i - (m * x_i + b) for x_i, y_i in zip(x, y)])\n",
    "    b_gradient = diff * (-2 / len(x))\n",
    "    \n",
    "    return b_gradient"
   ]
  },
  {
   "cell_type": "code",
   "execution_count": 4,
   "id": "5b65f037",
   "metadata": {},
   "outputs": [],
   "source": [
    "def gradient_for_m(x, y, m, b):\n",
    "    diff = sum([x_i * (y_i - (m * x_i + b)) for x_i, y_i in zip(x, y)])\n",
    "    m_gradient = diff * (-2 / len(x))\n",
    "    \n",
    "    return m_gradient"
   ]
  },
  {
   "cell_type": "code",
   "execution_count": 5,
   "id": "e5a49916",
   "metadata": {},
   "outputs": [],
   "source": [
    "def step_gradient(x, y, m_current, b_current, learning_rate):\n",
    "    b_gradient = gradient_for_b(x, y, m_current, b_current)\n",
    "    m_gradient = gradient_for_m(x, y, m_current, b_current)\n",
    "    b = b_current - (learning_rate * b_gradient)\n",
    "    m = m_current - (learning_rate * m_gradient)\n",
    "    \n",
    "    return [b, m]"
   ]
  },
  {
   "cell_type": "code",
   "execution_count": 6,
   "id": "e356fe66",
   "metadata": {},
   "outputs": [],
   "source": [
    "def gradient_descent(x, y, learning_rate, num_iteration): #interation(반복)\n",
    "    m, b = 0, 0\n",
    "    #m, b를 '0'으로 초기화\n",
    "    for i in range(num_iteration):\n",
    "        b, m = step_gradient(x, y, b, m, learning_rate)\n",
    "        x = np.array(x) \n",
    "        y = np.array(y) \n",
    "        #numpy로 만들어줘야 m * x행렬연산가능\n",
    "        y_predicted = m * x + b\n",
    "        cost = (1 / len(x)) * sum([val ** 2 for val in (y - y_predicted)])\n",
    "        if i % 100 == 0:\n",
    "            print(\"b = {}, m = {}, cost = {}\".format(b, m, cost))\n",
    "    \n",
    "    return [b, m]\n",
    "    "
   ]
  },
  {
   "cell_type": "code",
   "execution_count": 7,
   "id": "0ef1f64f",
   "metadata": {},
   "outputs": [
    {
     "data": {
      "text/html": [
       "<div>\n",
       "<style scoped>\n",
       "    .dataframe tbody tr th:only-of-type {\n",
       "        vertical-align: middle;\n",
       "    }\n",
       "\n",
       "    .dataframe tbody tr th {\n",
       "        vertical-align: top;\n",
       "    }\n",
       "\n",
       "    .dataframe thead th {\n",
       "        text-align: right;\n",
       "    }\n",
       "</style>\n",
       "<table border=\"1\" class=\"dataframe\">\n",
       "  <thead>\n",
       "    <tr style=\"text-align: right;\">\n",
       "      <th></th>\n",
       "      <th>months</th>\n",
       "      <th>revenue</th>\n",
       "    </tr>\n",
       "  </thead>\n",
       "  <tbody>\n",
       "    <tr>\n",
       "      <th>0</th>\n",
       "      <td>1</td>\n",
       "      <td>52</td>\n",
       "    </tr>\n",
       "    <tr>\n",
       "      <th>1</th>\n",
       "      <td>2</td>\n",
       "      <td>74</td>\n",
       "    </tr>\n",
       "    <tr>\n",
       "      <th>2</th>\n",
       "      <td>3</td>\n",
       "      <td>79</td>\n",
       "    </tr>\n",
       "    <tr>\n",
       "      <th>3</th>\n",
       "      <td>4</td>\n",
       "      <td>95</td>\n",
       "    </tr>\n",
       "    <tr>\n",
       "      <th>4</th>\n",
       "      <td>5</td>\n",
       "      <td>115</td>\n",
       "    </tr>\n",
       "    <tr>\n",
       "      <th>5</th>\n",
       "      <td>6</td>\n",
       "      <td>110</td>\n",
       "    </tr>\n",
       "    <tr>\n",
       "      <th>6</th>\n",
       "      <td>7</td>\n",
       "      <td>129</td>\n",
       "    </tr>\n",
       "    <tr>\n",
       "      <th>7</th>\n",
       "      <td>8</td>\n",
       "      <td>126</td>\n",
       "    </tr>\n",
       "    <tr>\n",
       "      <th>8</th>\n",
       "      <td>9</td>\n",
       "      <td>147</td>\n",
       "    </tr>\n",
       "    <tr>\n",
       "      <th>9</th>\n",
       "      <td>10</td>\n",
       "      <td>146</td>\n",
       "    </tr>\n",
       "    <tr>\n",
       "      <th>10</th>\n",
       "      <td>11</td>\n",
       "      <td>156</td>\n",
       "    </tr>\n",
       "    <tr>\n",
       "      <th>11</th>\n",
       "      <td>12</td>\n",
       "      <td>184</td>\n",
       "    </tr>\n",
       "  </tbody>\n",
       "</table>\n",
       "</div>"
      ],
      "text/plain": [
       "    months  revenue\n",
       "0        1       52\n",
       "1        2       74\n",
       "2        3       79\n",
       "3        4       95\n",
       "4        5      115\n",
       "5        6      110\n",
       "6        7      129\n",
       "7        8      126\n",
       "8        9      147\n",
       "9       10      146\n",
       "10      11      156\n",
       "11      12      184"
      ]
     },
     "execution_count": 7,
     "metadata": {},
     "output_type": "execute_result"
    }
   ],
   "source": [
    "df = pd.read_csv('monthly_revenue.csv')\n",
    "df"
   ]
  },
  {
   "cell_type": "code",
   "execution_count": 8,
   "id": "24a96d99",
   "metadata": {},
   "outputs": [
    {
     "data": {
      "text/plain": [
       "Text(0, 0.5, 'revenue')"
      ]
     },
     "execution_count": 8,
     "metadata": {},
     "output_type": "execute_result"
    },
    {
     "data": {
      "image/png": "[encoded data removed]",
      "text/plain": [
       "<Figure size 432x288 with 1 Axes>"
      ]
     },
     "metadata": {
      "needs_background": "light"
     },
     "output_type": "display_data"
    }
   ],
   "source": [
    "# 월별 수익 그래프를 산점도로 나타낸다\n",
    "plt.scatter(df.months, df.revenue)\n",
    "plt.xlabel('months')\n",
    "plt.ylabel('revenue')"
   ]
  },
  {
   "cell_type": "code",
   "execution_count": 9,
   "id": "c22568b0",
   "metadata": {},
   "outputs": [
    {
     "name": "stdout",
     "output_type": "stream",
     "text": [
      "b = 2.355, m = 17.78333333333333, cost = 701.1453212962957\n",
      "b = 14.786772824300119, m = 14.646993154550138, cost = 325.7208337147323\n",
      "b = 14.786772824300119, m = 14.646993154550138, cost = 325.7208337147323\n",
      "b = 14.786772824300119, m = 14.646993154550138, cost = 325.7208337147323\n",
      "b = 14.786772824300119, m = 14.646993154550138, cost = 325.7208337147323\n",
      "b = 14.786772824300119, m = 14.646993154550138, cost = 325.7208337147323\n",
      "b = 14.786772824300119, m = 14.646993154550138, cost = 325.7208337147323\n",
      "b = 14.786772824300119, m = 14.646993154550138, cost = 325.7208337147323\n",
      "b = 14.786772824300119, m = 14.646993154550138, cost = 325.7208337147323\n",
      "b = 14.786772824300119, m = 14.646993154550138, cost = 325.7208337147323\n"
     ]
    },
    {
     "data": {
      "text/plain": [
       "[<matplotlib.lines.Line2D at 0x2ac7ec65400>]"
      ]
     },
     "execution_count": 9,
     "metadata": {},
     "output_type": "execute_result"
    },
    {
     "data": {
      "image/png": "[encoded data removed]",
      "text/plain": [
       "<Figure size 432x288 with 1 Axes>"
      ]
     },
     "metadata": {
      "needs_background": "light"
     },
     "output_type": "display_data"
    }
   ],
   "source": [
    "b, m = gradient_descent(df.months, df.revenue, 0.01, 1000)\n",
    "y = [m*x + b for x in df.months]\n",
    "\n",
    "plt.scatter(df.months, df.revenue)\n",
    "plt.plot(df.months, y, color='orange')"
   ]
  },
  {
   "cell_type": "code",
   "execution_count": 11,
   "id": "135f7e6c",
   "metadata": {},
   "outputs": [
    {
     "data": {
      "text/plain": [
       "[2, 6, 12]"
      ]
     },
     "execution_count": 11,
     "metadata": {},
     "output_type": "execute_result"
    }
   ],
   "source": [
    "#zip함수 : 배열을 묶어준다.\n",
    "x = [1, 2, 3]\n",
    "y = [2, 3, 4]\n",
    "\n",
    "a = [a*b for a, b in zip(x, y)]\n",
    "a"
   ]
  },
  {
   "cell_type": "code",
   "execution_count": null,
   "id": "d52252f9",
   "metadata": {},
   "outputs": [],
   "source": []
  }
 ],
 "metadata": {
  "kernelspec": {
   "display_name": "Python 3",
   "language": "python",
   "name": "python3"
  },
  "language_info": {
   "codemirror_mode": {
    "name": "ipython",
    "version": 3
   },
   "file_extension": ".py",
   "mimetype": "text/x-python",
   "name": "python",
   "nbconvert_exporter": "python",
   "pygments_lexer": "ipython3",
   "version": "3.8.8"
  }
 },
 "nbformat": 4,
 "nbformat_minor": 5
}
